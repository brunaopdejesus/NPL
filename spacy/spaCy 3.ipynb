{
 "cells": [
  {
   "attachments": {},
   "cell_type": "markdown",
   "metadata": {},
   "source": [
    "# SpaCy"
   ]
  },
  {
   "attachments": {},
   "cell_type": "markdown",
   "metadata": {},
   "source": [
    "No terminal:\n",
    "```\n",
    "pip install -U spacy\n",
    "python -m spacy download pt_core_news_sm\n",
    "```"
   ]
  },
  {
   "cell_type": "code",
   "execution_count": 1,
   "metadata": {},
   "outputs": [
    {
     "name": "stdout",
     "output_type": "stream",
     "text": [
      "3.7.4\n"
     ]
    }
   ],
   "source": [
    "# Importar a biblioteca e printar versão\n",
    "import spacy\n",
    "print(spacy.__version__)"
   ]
  },
  {
   "attachments": {},
   "cell_type": "markdown",
   "metadata": {},
   "source": [
    "> Carregar e exibir"
   ]
  },
  {
   "cell_type": "code",
   "execution_count": 6,
   "metadata": {},
   "outputs": [
    {
     "name": "stdout",
     "output_type": "stream",
     "text": [
      "O\n",
      "spaCy\n",
      "é\n",
      "uma\n",
      "ótima\n",
      "ferramenta\n",
      "para\n",
      "processamento\n",
      "de\n",
      "linguagem\n",
      "natural\n",
      ".\n"
     ]
    }
   ],
   "source": [
    "# Carregar o modelo para o idioma português\n",
    "nlp = spacy.load(\"pt_core_news_sm\")\n",
    "\n",
    "# Texto a ser tokenizado\n",
    "texto = \"O spaCy é uma ótima ferramenta para processamento de linguagem natural.\"\n",
    "\n",
    "# Tokenizar o texto\n",
    "documento = nlp(texto)\n",
    "\n",
    "# Exibir tokens\n",
    "for token in documento:\n",
    "    print(token.text)"
   ]
  },
  {
   "attachments": {},
   "cell_type": "markdown",
   "metadata": {},
   "source": [
    "> Info Morfológica"
   ]
  },
  {
   "cell_type": "code",
   "execution_count": 8,
   "metadata": {},
   "outputs": [
    {
     "name": "stdout",
     "output_type": "stream",
     "text": [
      "Token: O, Forma básica: o, Classe gramatical: DET, Tag de detalhes: DET\n",
      "Token: spaCy, Forma básica: spaCy, Classe gramatical: NOUN, Tag de detalhes: NOUN\n",
      "Token: é, Forma básica: ser, Classe gramatical: AUX, Tag de detalhes: AUX\n",
      "Token: uma, Forma básica: um, Classe gramatical: DET, Tag de detalhes: DET\n",
      "Token: ótima, Forma básica: ótimo, Classe gramatical: ADJ, Tag de detalhes: ADJ\n",
      "Token: ferramenta, Forma básica: ferramenta, Classe gramatical: NOUN, Tag de detalhes: NOUN\n",
      "Token: para, Forma básica: para, Classe gramatical: ADP, Tag de detalhes: ADP\n",
      "Token: processamento, Forma básica: processamento, Classe gramatical: NOUN, Tag de detalhes: NOUN\n",
      "Token: de, Forma básica: de, Classe gramatical: ADP, Tag de detalhes: ADP\n",
      "Token: linguagem, Forma básica: linguagem, Classe gramatical: NOUN, Tag de detalhes: NOUN\n",
      "Token: natural, Forma básica: natural, Classe gramatical: ADJ, Tag de detalhes: ADJ\n",
      "Token: ., Forma básica: ., Classe gramatical: PUNCT, Tag de detalhes: PUNCT\n"
     ]
    }
   ],
   "source": [
    "# Exibir informações morfológicas para cada token\n",
    "for token in documento:\n",
    "    print(f\"Token: {token.text}, Forma básica: {token.lemma_}, Classe gramatical: {token.pos_}, Tag de detalhes: {token.tag_}\")"
   ]
  },
  {
   "attachments": {},
   "cell_type": "markdown",
   "metadata": {},
   "source": [
    "> Reconhecimento de Entidades Nomeadas (NER)"
   ]
  },
  {
   "cell_type": "code",
   "execution_count": 14,
   "metadata": {},
   "outputs": [
    {
     "name": "stdout",
     "output_type": "stream",
     "text": [
      "Entidade: Bill Gates, Tipo: PER\n",
      "Entidade: Microsoft, Tipo: ORG\n",
      "Entidade: Seattle, Tipo: LOC\n"
     ]
    }
   ],
   "source": [
    "# Texto a ser analisado\n",
    "texto = \"Bill Gates fundou a Microsoft em 1975. Ele nasceu em Seattle.\"\n",
    "\n",
    "# Processar o texto\n",
    "documento = nlp(texto)\n",
    "\n",
    "# Exibir as entidades nomeadas encontradas\n",
    "for entidade in documento.ents:\n",
    "    print(f\"Entidade: {entidade.text}, Tipo: {entidade.label_}\")"
   ]
  },
  {
   "attachments": {},
   "cell_type": "markdown",
   "metadata": {},
   "source": [
    "> Lematização"
   ]
  },
  {
   "cell_type": "code",
   "execution_count": 15,
   "metadata": {},
   "outputs": [
    {
     "name": "stdout",
     "output_type": "stream",
     "text": [
      "Palavra: Eu, Lema: eu\n",
      "Palavra: estava, Lema: estar\n",
      "Palavra: correndo, Lema: correndo\n",
      "Palavra: quando, Lema: quando\n",
      "Palavra: vi, Lema: ver\n",
      "Palavra: uma, Lema: um\n",
      "Palavra: corrida, Lema: corrida\n",
      "Palavra: de, Lema: de\n",
      "Palavra: carros, Lema: carro\n",
      "Palavra: ., Lema: .\n"
     ]
    }
   ],
   "source": [
    "# Texto a ser analisado\n",
    "texto = \"Eu estava correndo quando vi uma corrida de carros.\"\n",
    "\n",
    "# Processar o texto\n",
    "documento = nlp(texto)\n",
    "\n",
    "# Exibir os lemas das palavras\n",
    "for token in documento:\n",
    "    print(f\"Palavra: {token.text}, Lema: {token.lemma_}\")"
   ]
  }
 ],
 "metadata": {
  "kernelspec": {
   "display_name": "Python 3",
   "language": "python",
   "name": "python3"
  },
  "language_info": {
   "codemirror_mode": {
    "name": "ipython",
    "version": 3
   },
   "file_extension": ".py",
   "mimetype": "text/x-python",
   "name": "python",
   "nbconvert_exporter": "python",
   "pygments_lexer": "ipython3",
   "version": "3.8.2"
  },
  "orig_nbformat": 4
 },
 "nbformat": 4,
 "nbformat_minor": 2
}
